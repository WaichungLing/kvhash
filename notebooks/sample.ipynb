{
 "cells": [
  {
   "metadata": {
    "ExecuteTime": {
     "end_time": "2024-11-06T06:56:06.396267Z",
     "start_time": "2024-11-06T06:56:06.390659Z"
    }
   },
   "cell_type": "code",
   "source": "import numpy as np",
   "id": "fbc121e30a2defb3",
   "outputs": [],
   "execution_count": 27
  },
  {
   "metadata": {
    "ExecuteTime": {
     "end_time": "2024-11-06T06:56:07.905783Z",
     "start_time": "2024-11-06T06:56:07.610939Z"
    }
   },
   "cell_type": "code",
   "source": [
    "data = np.loadtxt(\"data/key_states_layer_10.txt\")\n",
    "print(data.shape)"
   ],
   "id": "3e1482ad7b0b1c96",
   "outputs": [
    {
     "name": "stdout",
     "output_type": "stream",
     "text": [
      "(5159, 1024)\n"
     ]
    }
   ],
   "execution_count": 28
  },
  {
   "metadata": {
    "ExecuteTime": {
     "end_time": "2024-11-06T06:56:21.054575Z",
     "start_time": "2024-11-06T06:56:21.032545Z"
    }
   },
   "cell_type": "code",
   "source": [
    "data_norm = data / data.sum(axis=1, keepdims=True)\n",
    "data_norm[:5,:]"
   ],
   "id": "26581df241a3f01",
   "outputs": [
    {
     "data": {
      "text/plain": [
       "array([[0.00046427, 0.00046835, 0.00146161, ..., 0.00147675, 0.0004883 ,\n",
       "        0.00049722],\n",
       "       [0.00145619, 0.00048411, 0.0004699 , ..., 0.00146576, 0.0004889 ,\n",
       "        0.00147822],\n",
       "       [0.00046974, 0.00145064, 0.00145501, ..., 0.00048134, 0.00048722,\n",
       "        0.00146816],\n",
       "       [0.00141635, 0.00140026, 0.00046293, ..., 0.00047285, 0.00047523,\n",
       "        0.00143184],\n",
       "       [0.00144769, 0.00144043, 0.00047656, ..., 0.00145312, 0.00046755,\n",
       "        0.00146355]])"
      ]
     },
     "execution_count": 29,
     "metadata": {},
     "output_type": "execute_result"
    }
   ],
   "execution_count": 29
  },
  {
   "metadata": {
    "ExecuteTime": {
     "end_time": "2024-11-06T07:01:34.247822Z",
     "start_time": "2024-11-06T07:01:33.615935Z"
    }
   },
   "cell_type": "code",
   "source": [
    "import matplotlib.pyplot as plt\n",
    "\n",
    "# Parameters\n",
    "num_planes = 8  # Number of random hyperplanes for hashing (number of bits in hash)\n",
    "\n",
    "# Assuming 'data' is your array with shape (334, 1024)\n",
    "# Simulate random hyperplanes\n",
    "np.random.seed(3)  # For reproducibility\n",
    "random_planes = np.random.randn(num_planes, data.shape[1])  # Random planes of shape (num_planes, 1024)\n",
    "\n",
    "def random_plane_hash(vector, planes):\n",
    "    # Compute the dot product of the vector with each plane\n",
    "    dot_products = np.dot(planes, vector.T)  # Shape: (num_planes,)\n",
    "    \n",
    "    # Generate a hash by taking the sign of each dot product\n",
    "    # Assign 1 for positive dot product, 0 for negative\n",
    "    return np.where(dot_products >= 0, 1, 0)\n",
    "\n",
    "# Compute hashes for all rows\n",
    "hashes = np.array([random_plane_hash(row, random_planes) for row in data_norm])\n",
    "powers_of_two = 2 ** np.arange(num_planes)[::-1]  # [8, 4, 2, 1] for 4-bit hash\n",
    "hashed_values = np.dot(hashes, powers_of_two)\n",
    "\n",
    "# Display the first few hashes\n",
    "plt.figure(figsize=(10, 6))\n",
    "plt.hist(hashed_values, bins=np.arange(2**num_planes+1) - 0.5, color='blue', alpha=0.7)\n",
    "# plt.xticks(np.arange(2**num_planes))  # Ensure the x-axis only shows integers between 0 and 15\n",
    "plt.title('Histogram of Hashed Values Using Random Plane Method')\n",
    "plt.xlabel('Hashed Value')\n",
    "plt.ylabel('Frequency')\n",
    "plt.grid(True)\n",
    "plt.show()\n"
   ],
   "id": "66d4a3efd1dccf93",
   "outputs": [
    {
     "data": {
      "text/plain": [
       "<Figure size 1000x600 with 1 Axes>"
      ],
      "image/png": "[encoded data removed]"
     },
     "metadata": {},
     "output_type": "display_data"
    }
   ],
   "execution_count": 30
  },
  {
   "metadata": {
    "ExecuteTime": {
     "end_time": "2024-11-06T07:02:04.005768Z",
     "start_time": "2024-11-06T07:02:03.999889Z"
    }
   },
   "cell_type": "code",
   "source": "vals, counts = np.unique(hashed_values, return_counts=True)",
   "id": "a4ee02b63ff5d2d5",
   "outputs": [],
   "execution_count": 31
  },
  {
   "metadata": {
    "ExecuteTime": {
     "end_time": "2024-11-06T07:02:04.755763Z",
     "start_time": "2024-11-06T07:02:04.753770Z"
    }
   },
   "cell_type": "code",
   "source": "tuples = [(count, val) for val, count in zip(vals, counts)]",
   "id": "ad77ff13e9bc572a",
   "outputs": [],
   "execution_count": 32
  },
  {
   "metadata": {
    "ExecuteTime": {
     "end_time": "2024-11-06T07:02:12.322278Z",
     "start_time": "2024-11-06T07:02:12.302024Z"
    }
   },
   "cell_type": "code",
   "source": "tuples",
   "id": "d93486300de473f0",
   "outputs": [
    {
     "data": {
      "text/plain": [
       "[(65, 0),\n",
       " (15, 1),\n",
       " (2, 2),\n",
       " (1, 3),\n",
       " (5, 4),\n",
       " (2, 5),\n",
       " (504, 32),\n",
       " (155, 33),\n",
       " (14, 34),\n",
       " (2, 35),\n",
       " (24, 36),\n",
       " (16, 37),\n",
       " (305, 128),\n",
       " (196, 129),\n",
       " (9, 130),\n",
       " (7, 131),\n",
       " (10, 132),\n",
       " (6, 133),\n",
       " (2, 135),\n",
       " (2420, 160),\n",
       " (1208, 161),\n",
       " (55, 162),\n",
       " (23, 163),\n",
       " (67, 164),\n",
       " (43, 165),\n",
       " (2, 166),\n",
       " (1, 167)]"
      ]
     },
     "execution_count": 33,
     "metadata": {},
     "output_type": "execute_result"
    }
   ],
   "execution_count": 33
  },
  {
   "metadata": {},
   "cell_type": "markdown",
   "source": "### Normal distribution",
   "id": "c0d4a382ace002bc"
  },
  {
   "metadata": {
    "ExecuteTime": {
     "end_time": "2024-10-26T07:40:46.682215Z",
     "start_time": "2024-10-26T07:40:46.677997Z"
    }
   },
   "cell_type": "code",
   "source": [
    "sorted_tuples = sorted(tuples, key=lambda x: x[0])\n",
    "\n",
    "# Create a new list for rearranged data in bell curve order\n",
    "n = len(sorted_tuples)\n",
    "rearranged_data = [None] * n\n",
    "\n",
    "# Place elements symmetrically around the center\n",
    "for i in range(n // 2):\n",
    "    rearranged_data[i] = sorted_tuples[2*i]\n",
    "    rearranged_data[n - i - 1] = sorted_tuples[2*i+1]\n",
    "\n",
    "# If there's an odd number of elements, place the middle element\n",
    "if n % 2 != 0:\n",
    "    rearranged_data[n // 2] = sorted_tuples[-1]\n",
    "\n",
    "# Output the rearranged data\n",
    "print(rearranged_data)"
   ],
   "id": "42ef07b4a6189d06",
   "outputs": [
    {
     "name": "stdout",
     "output_type": "stream",
     "text": [
      "[(1, 3), (2, 2), (2, 35), (2, 166), (6, 133), (9, 130), (14, 34), (16, 37), (24, 36), (55, 162), (67, 164), (196, 129), (504, 32), (2420, 160), (1208, 161), (305, 128), (155, 33), (65, 0), (43, 165), (23, 163), (15, 1), (10, 132), (7, 131), (5, 4), (2, 135), (2, 5), (1, 167)]\n"
     ]
    }
   ],
   "execution_count": 110
  },
  {
   "metadata": {
    "ExecuteTime": {
     "end_time": "2024-10-26T07:40:48.290123Z",
     "start_time": "2024-10-26T07:40:48.187232Z"
    }
   },
   "cell_type": "code",
   "source": [
    "import scipy.stats as stats\n",
    "from scipy.stats import norm\n",
    "\n",
    "counts = [count for count, value in rearranged_data]\n",
    "values = [value for count, value in rearranged_data]\n",
    "\n",
    "expanded_data = []\n",
    "for i, tup in enumerate(rearranged_data):\n",
    "    expanded_data.extend([i] * tup[0])\n",
    "\n",
    "# Calculate the mean and standard deviation of the expanded data for normal distribution fitting\n",
    "mean, std_dev = norm.fit(expanded_data)\n",
    "print(f'mean = {mean}, std = {std_dev}, length = {len(expanded_data)}')\n",
    "\n",
    "# Plotting\n",
    "plt.figure(figsize=(12, 6))\n",
    "plt.bar(range(len(values)), counts, tick_label=values, color='orange')\n",
    "\n",
    "# normal distribution\n",
    "x_values = np.linspace(min(expanded_data), max(expanded_data), 100)\n",
    "y_values = norm.pdf(x_values, mean, std_dev) * len(expanded_data)\n",
    "plt.plot(x_values, y_values, 'r', linewidth=2, label=\"Normal Distribution Fit (Counts)\")\n",
    "\n",
    "plt.title(\"Bell-shaped Distribution of Counts by Value\")\n",
    "plt.xlabel(\"Value\")\n",
    "plt.ylabel(\"Count\")\n",
    "plt.xticks(rotation=90)  # Rotate x-axis labels for readability\n",
    "plt.grid(axis='y', linestyle='--', alpha=0.7)\n",
    "plt.legend()\n",
    "plt.show()"
   ],
   "id": "8d3191650a606a49",
   "outputs": [
    {
     "name": "stdout",
     "output_type": "stream",
     "text": [
      "mean = 13.274665632874589, std = 1.7672144378095986, length = 5159\n"
     ]
    },
    {
     "data": {
      "text/plain": [
       "<Figure size 1200x600 with 1 Axes>"
      ],
      "image/png": "[encoded data removed]"
     },
     "metadata": {},
     "output_type": "display_data"
    }
   ],
   "execution_count": 112
  },
  {
   "metadata": {},
   "cell_type": "markdown",
   "source": "### Exponential Distribution",
   "id": "13dc05fa6f0f4a72"
  },
  {
   "metadata": {
    "ExecuteTime": {
     "end_time": "2024-10-26T08:12:26.361878Z",
     "start_time": "2024-10-26T08:12:26.357224Z"
    }
   },
   "cell_type": "code",
   "source": "sorted_tuples = sorted(tuples, key=lambda x: -x[0])",
   "id": "ef32de231db428a0",
   "outputs": [],
   "execution_count": 157
  },
  {
   "metadata": {
    "ExecuteTime": {
     "end_time": "2024-10-26T08:14:37.786716Z",
     "start_time": "2024-10-26T08:14:37.684225Z"
    }
   },
   "cell_type": "code",
   "source": [
    "from scipy.stats import expon\n",
    "\n",
    "counts = [count for count, value in sorted_tuples]\n",
    "values = [value for count, value in sorted_tuples]\n",
    "\n",
    "expanded_data = []\n",
    "for i, tup in enumerate(sorted_tuples):\n",
    "    expanded_data.extend([i] * tup[0])\n",
    "\n",
    "plt.figure(figsize=(12, 6))\n",
    "\n",
    "# Calculate the mean and standard deviation of the expanded data for normal distribution fitting\n",
    "loc, scale = expon.fit(expanded_data)\n",
    "print(f'loc = {loc}, scale = {scale}')\n",
    "\n",
    "x_values = np.linspace(min(expanded_data), max(expanded_data), 100)\n",
    "y_values = expon.pdf(x_values, loc, scale) * len(expanded_data)\n",
    "plt.plot(x_values, y_values, 'r', linewidth=2, label=\"Exponential Distribution Fit (Counts)\")\n",
    "\n",
    "plt.bar(range(len(values)), counts, tick_label=values, color='orange')\n",
    "\n",
    "plt.title(\"Exponential Distribution of Counts by Value\")\n",
    "plt.xlabel(\"Value\")\n",
    "plt.ylabel(\"Count\")\n",
    "plt.xticks(rotation=90)  # Rotate x-axis labels for readability\n",
    "plt.grid(axis='y', linestyle='--', alpha=0.7)\n",
    "plt.legend()\n",
    "plt.show()"
   ],
   "id": "bafd538c794b2266",
   "outputs": [
    {
     "name": "stdout",
     "output_type": "stream",
     "text": [
      "loc = 0.0, scale = 1.616010854816825\n"
     ]
    },
    {
     "data": {
      "text/plain": [
       "<Figure size 1200x600 with 1 Axes>"
      ],
      "image/png": "[encoded data removed]"
     },
     "metadata": {},
     "output_type": "display_data"
    }
   ],
   "execution_count": 163
  },
  {
   "metadata": {},
   "cell_type": "markdown",
   "source": "### Weibull",
   "id": "3c6e845a7bd9e032"
  },
  {
   "metadata": {
    "ExecuteTime": {
     "end_time": "2024-10-26T08:03:58.352540Z",
     "start_time": "2024-10-26T08:03:58.347340Z"
    }
   },
   "cell_type": "code",
   "source": "sorted_tuples = sorted(tuples, key=lambda x: -x[0])",
   "id": "772924aa01c64412",
   "outputs": [],
   "execution_count": 140
  },
  {
   "metadata": {
    "ExecuteTime": {
     "end_time": "2024-10-26T08:08:13.994152Z",
     "start_time": "2024-10-26T08:08:13.737179Z"
    }
   },
   "cell_type": "code",
   "source": [
    "from scipy.stats import weibull_max\n",
    "\n",
    "counts = [count for count, value in sorted_tuples]\n",
    "values = [value for count, value in sorted_tuples]\n",
    "\n",
    "expanded_data = []\n",
    "for i, tup in enumerate(sorted_tuples):\n",
    "    expanded_data.extend([i] * tup[0])\n",
    "\n",
    "plt.figure(figsize=(12, 6))\n",
    "\n",
    "# Calculate the mean and standard deviation of the expanded data for normal distribution fitting\n",
    "c, loc, scale = weibull_max.fit(expanded_data)\n",
    "print(f'c = {c}, loc = {loc}, scale = {scale}')\n",
    "\n",
    "x_values = np.linspace(min(expanded_data), max(expanded_data), 100)\n",
    "y_values = weibull_max.pdf(x_values, c, loc, scale) * len(expanded_data)\n",
    "plt.plot(x_values, y_values, 'r', linewidth=2, label=\"Normal Distribution Fit (Counts)\")\n",
    "\n",
    "plt.bar(range(len(values)), counts, tick_label=values, color='orange')\n",
    "\n",
    "plt.title(\"Exponential Distribution of Counts by Value\")\n",
    "plt.xlabel(\"Value\")\n",
    "plt.ylabel(\"Count\")\n",
    "plt.xticks(rotation=90)  # Rotate x-axis labels for readability\n",
    "plt.grid(axis='y', linestyle='--', alpha=0.7)\n",
    "plt.legend()\n",
    "plt.show()"
   ],
   "id": "a9164ddb28e69571",
   "outputs": [
    {
     "name": "stdout",
     "output_type": "stream",
     "text": [
      "c = 145174381.01556474, loc = 185250748.39482832, scale = 185250747.75242007\n"
     ]
    },
    {
     "data": {
      "text/plain": [
       "<Figure size 1200x600 with 1 Axes>"
      ],
      "image/png": "[encoded data removed]"
     },
     "metadata": {},
     "output_type": "display_data"
    }
   ],
   "execution_count": 150
  },
  {
   "metadata": {},
   "cell_type": "markdown",
   "source": "### Exponential power",
   "id": "c80978732e5fea8a"
  },
  {
   "metadata": {
    "ExecuteTime": {
     "end_time": "2024-10-26T08:09:18.461871Z",
     "start_time": "2024-10-26T08:09:18.454379Z"
    }
   },
   "cell_type": "code",
   "source": "sorted_tuples = sorted(tuples, key=lambda x: -x[0])",
   "id": "3c6a5124ae0c9990",
   "outputs": [],
   "execution_count": 151
  },
  {
   "metadata": {
    "ExecuteTime": {
     "end_time": "2024-10-26T08:12:11.189189Z",
     "start_time": "2024-10-26T08:12:10.984125Z"
    }
   },
   "cell_type": "code",
   "source": [
    "from scipy.stats import exponpow\n",
    "\n",
    "counts = [count for count, value in sorted_tuples]\n",
    "values = [value for count, value in sorted_tuples]\n",
    "\n",
    "expanded_data = []\n",
    "for i, tup in enumerate(sorted_tuples):\n",
    "    expanded_data.extend([i] * tup[0])\n",
    "\n",
    "plt.figure(figsize=(12, 6))\n",
    "\n",
    "# Calculate the mean and standard deviation of the expanded data for normal distribution fitting\n",
    "loc, scale, shape = exponpow.fit(expanded_data)\n",
    "print(f'loc = {loc}, scale = {scale}, shape = {shape}')\n",
    "\n",
    "x_values = np.linspace(min(expanded_data), max(expanded_data), 100)\n",
    "y_values = exponpow.pdf(x_values, loc, scale, shape) * len(expanded_data)\n",
    "plt.plot(x_values, y_values, 'r', linewidth=2, label=\"Normal Distribution Fit (Counts)\")\n",
    "\n",
    "plt.bar(range(len(values)), counts, tick_label=values, color='orange')\n",
    "\n",
    "plt.title(\"Exponential Distribution of Counts by Value\")\n",
    "plt.xlabel(\"Value\")\n",
    "plt.ylabel(\"Count\")\n",
    "plt.xticks(rotation=90)  # Rotate x-axis labels for readability\n",
    "plt.grid(axis='y', linestyle='--', alpha=0.7)\n",
    "plt.legend()\n",
    "plt.show()"
   ],
   "id": "bce9e90d6e25c8ae",
   "outputs": [
    {
     "name": "stdout",
     "output_type": "stream",
     "text": [
      "loc = 0.4253096629983688, scale = -8.109852248207151e-29, shape = 12.356943141225674\n"
     ]
    },
    {
     "data": {
      "text/plain": [
       "<Figure size 1200x600 with 1 Axes>"
      ],
      "image/png": "[encoded data removed]"
     },
     "metadata": {},
     "output_type": "display_data"
    }
   ],
   "execution_count": 156
  },
  {
   "metadata": {
    "ExecuteTime": {
     "end_time": "2024-10-26T08:09:59.478293Z",
     "start_time": "2024-10-26T08:09:59.369635Z"
    }
   },
   "cell_type": "code",
   "source": [
    "from scipy.stats import exponpow\n",
    "exponpow.fit(expanded_data)"
   ],
   "id": "ad5542cbcbe3ca24",
   "outputs": [
    {
     "data": {
      "text/plain": [
       "(0.4253096629983688, -8.109852248207151e-29, 12.356943141225674)"
      ]
     },
     "execution_count": 153,
     "metadata": {},
     "output_type": "execute_result"
    }
   ],
   "execution_count": 153
  },
  {
   "metadata": {},
   "cell_type": "markdown",
   "source": "### Paddle",
   "id": "e8e9a688eebb265c"
  },
  {
   "metadata": {
    "ExecuteTime": {
     "end_time": "2024-11-07T09:33:38.360180Z",
     "start_time": "2024-11-07T09:33:38.318792Z"
    }
   },
   "cell_type": "code",
   "source": [
    "import os\n",
    "os.environ['GLOG_minloglevel'] = '10000'\n",
    "import paddle\n",
    "import paddle.nn.functional as F"
   ],
   "id": "8e089f363eec98d8",
   "outputs": [],
   "execution_count": 73
  },
  {
   "metadata": {
    "ExecuteTime": {
     "end_time": "2024-11-08T05:12:12.706226Z",
     "start_time": "2024-11-08T05:12:12.666067Z"
    }
   },
   "cell_type": "code",
   "source": [
    "key_states = paddle.zeros((1,2,4,3), dtype='float32')   #(b, slen, head, dim)\n",
    "key_states[:,0,0] = paddle.to_tensor([1,2,3])\n",
    "key_states[:,0,1] = paddle.to_tensor([1,2,3])\n",
    "key_states[:,0,2] = paddle.to_tensor([10,11,12])\n",
    "key_states[:,0,3] = paddle.to_tensor([10,11,12])\n",
    "\n",
    "key_states[:,1,0] = paddle.to_tensor([9,8,7])\n",
    "key_states[:,1,1] = paddle.to_tensor([9,8,7])\n",
    "key_states[:,1,2] = paddle.to_tensor([4,5,6])\n",
    "key_states[:,1,3] = paddle.to_tensor([4,5,6])\n",
    "key_states"
   ],
   "id": "40c8f5691087238c",
   "outputs": [
    {
     "data": {
      "text/plain": [
       "Tensor(shape=[1, 2, 4, 3], dtype=float32, place=Place(cpu), stop_gradient=True,\n",
       "       [[[[1. , 2. , 3. ],\n",
       "          [1. , 2. , 3. ],\n",
       "          [10., 11., 12.],\n",
       "          [10., 11., 12.]],\n",
       "\n",
       "         [[9. , 8. , 7. ],\n",
       "          [9. , 8. , 7. ],\n",
       "          [4. , 5. , 6. ],\n",
       "          [4. , 5. , 6. ]]]])"
      ]
     },
     "execution_count": 106,
     "metadata": {},
     "output_type": "execute_result"
    }
   ],
   "execution_count": 106
  },
  {
   "metadata": {
    "ExecuteTime": {
     "end_time": "2024-11-08T07:56:23.828654Z",
     "start_time": "2024-11-08T07:56:23.823623Z"
    }
   },
   "cell_type": "code",
   "source": [
    "paddle.seed(3)\n",
    "hash_planes = paddle.randn((2, 3), dtype='float32')"
   ],
   "id": "e0d7d17c6d26edbf",
   "outputs": [],
   "execution_count": 118
  },
  {
   "metadata": {
    "ExecuteTime": {
     "end_time": "2024-11-08T05:12:23.615358Z",
     "start_time": "2024-11-08T05:12:23.609600Z"
    }
   },
   "cell_type": "code",
   "source": [
    "hash_bits = paddle.matmul(key_states, hash_planes, transpose_y=True)\n",
    "hash_bits = paddle.where(hash_bits >= 0, 1, 0)\n",
    "hash_bits"
   ],
   "id": "fe69be632de19339",
   "outputs": [
    {
     "data": {
      "text/plain": [
       "Tensor(shape=[1, 2, 4, 2], dtype=int64, place=Place(cpu), stop_gradient=True,\n",
       "       [[[[0, 1],\n",
       "          [0, 1],\n",
       "          [0, 1],\n",
       "          [0, 1]],\n",
       "\n",
       "         [[0, 0],\n",
       "          [0, 0],\n",
       "          [0, 1],\n",
       "          [0, 1]]]])"
      ]
     },
     "execution_count": 108,
     "metadata": {},
     "output_type": "execute_result"
    }
   ],
   "execution_count": 108
  },
  {
   "metadata": {
    "ExecuteTime": {
     "end_time": "2024-11-08T05:09:21.096060Z",
     "start_time": "2024-11-08T05:09:21.080825Z"
    }
   },
   "cell_type": "code",
   "source": [
    "hash_bits[0,0,2] = paddle.to_tensor([1,1])\n",
    "hash_bits[0,0,3] = paddle.to_tensor([1,1])\n",
    "hash_bits"
   ],
   "id": "b3a129b3855b3621",
   "outputs": [
    {
     "data": {
      "text/plain": [
       "Tensor(shape=[1, 1, 4, 2], dtype=int64, place=Place(cpu), stop_gradient=True,\n",
       "       [[[[0, 1],\n",
       "          [0, 1],\n",
       "          [1, 1],\n",
       "          [1, 1]]]])"
      ]
     },
     "execution_count": 102,
     "metadata": {},
     "output_type": "execute_result"
    }
   ],
   "execution_count": 102
  },
  {
   "metadata": {
    "ExecuteTime": {
     "end_time": "2024-11-08T05:12:38.059401Z",
     "start_time": "2024-11-08T05:12:38.054907Z"
    }
   },
   "cell_type": "code",
   "source": [
    "powers_of_two = 2 ** paddle.arange(2)[::-1]\n",
    "powers_of_two"
   ],
   "id": "c79b48f2f1e1c9f4",
   "outputs": [
    {
     "data": {
      "text/plain": [
       "Tensor(shape=[2], dtype=int64, place=Place(cpu), stop_gradient=True,\n",
       "       [2, 1])"
      ]
     },
     "execution_count": 109,
     "metadata": {},
     "output_type": "execute_result"
    }
   ],
   "execution_count": 109
  },
  {
   "metadata": {
    "ExecuteTime": {
     "end_time": "2024-11-08T05:12:39.997040Z",
     "start_time": "2024-11-08T05:12:39.993633Z"
    }
   },
   "cell_type": "code",
   "source": [
    "hash_vals = paddle.matmul(hash_bits, powers_of_two)\n",
    "hash_vals"
   ],
   "id": "52f93a800fa351c3",
   "outputs": [
    {
     "data": {
      "text/plain": [
       "Tensor(shape=[1, 2, 4], dtype=int64, place=Place(cpu), stop_gradient=True,\n",
       "       [[[1, 1, 1, 1],\n",
       "         [0, 0, 1, 1]]])"
      ]
     },
     "execution_count": 110,
     "metadata": {},
     "output_type": "execute_result"
    }
   ],
   "execution_count": 110
  },
  {
   "metadata": {
    "ExecuteTime": {
     "end_time": "2024-11-08T05:17:40.213397Z",
     "start_time": "2024-11-08T05:17:40.204260Z"
    }
   },
   "cell_type": "code",
   "source": "paddle.transpose(hash_vals,[0,2,1])",
   "id": "f33ea139df1fa726",
   "outputs": [
    {
     "data": {
      "text/plain": [
       "Tensor(shape=[1, 4, 2], dtype=int64, place=Place(cpu), stop_gradient=True,\n",
       "       [[[1, 0],\n",
       "         [1, 0],\n",
       "         [1, 1],\n",
       "         [1, 1]]])"
      ]
     },
     "execution_count": 112,
     "metadata": {},
     "output_type": "execute_result"
    }
   ],
   "execution_count": 112
  },
  {
   "metadata": {},
   "cell_type": "code",
   "outputs": [],
   "execution_count": null,
   "source": [
    "def random_plane_hash(key_states):\n",
    "        global hash_planes\n",
    "        hash_bits = paddle.matmul(key_states, hash_planes, transpose_y=True) # Shape: (num_planes, hiddenlen)\n",
    "        hash_bits = paddle.where(hash_bits >= 0, 1, 0)\n",
    "        powers_of_two = 2 ** paddle.arange(8)[::-1]\n",
    "        hash_vals = paddle.matmul(hash_bits, powers_of_two)\n",
    "        hash_vals = paddle.reshape(hash_vals, [-1, hash_vals.shape[2], hash_vals.shape[1]])\n",
    "        print(hash_vals)"
   ],
   "id": "7638fd43f4a3a16"
  },
  {
   "metadata": {
    "ExecuteTime": {
     "end_time": "2024-11-08T02:24:50.832316Z",
     "start_time": "2024-11-08T02:24:50.825405Z"
    }
   },
   "cell_type": "code",
   "source": "random_plane_hash(key_states)",
   "id": "e1c2d749b1e2308a",
   "outputs": [
    {
     "name": "stdout",
     "output_type": "stream",
     "text": [
      "Tensor(shape=[1, 24, 20], dtype=int64, place=Place(cpu), stop_gradient=True,\n",
      "       [[[27 , 24 , 252, 27 , 83 , 181, 80 , 106, 164, 45 , 118, 168, 185, 215,\n",
      "          209, 64 , 82 , 234, 66 , 252],\n",
      "         [22 , 163, 5  , 185, 210, 95 , 34 , 128, 224, 111, 129, 204, 224, 2  ,\n",
      "          80 , 231, 29 , 191, 227, 109],\n",
      "         [191, 145, 115, 6  , 49 , 81 , 11 , 245, 163, 174, 148, 50 , 230, 230,\n",
      "          194, 132, 233, 19 , 187, 90 ],\n",
      "         [2  , 180, 149, 152, 121, 6  , 116, 19 , 3  , 45 , 18 , 226, 38 , 66 ,\n",
      "          191, 201, 247, 99 , 251, 52 ],\n",
      "         [97 , 251, 162, 138, 38 , 132, 9  , 104, 57 , 7  , 109, 160, 138, 132,\n",
      "          120, 122, 9  , 254, 38 , 167],\n",
      "         [200, 24 , 1  , 60 , 203, 130, 71 , 250, 61 , 72 , 115, 130, 239, 202,\n",
      "          11 , 178, 248, 81 , 36 , 30 ],\n",
      "         [9  , 115, 157, 44 , 87 , 148, 37 , 247, 5  , 79 , 69 , 210, 123, 125,\n",
      "          71 , 63 , 101, 144, 91 , 135],\n",
      "         [47 , 232, 211, 67 , 252, 107, 4  , 250, 49 , 29 , 97 , 20 , 26 , 140,\n",
      "          3  , 138, 64 , 180, 17 , 22 ],\n",
      "         [44 , 43 , 18 , 115, 11 , 30 , 232, 225, 2  , 217, 190, 53 , 227, 85 ,\n",
      "          235, 146, 97 , 9  , 64 , 129],\n",
      "         [181, 242, 71 , 65 , 238, 126, 115, 247, 97 , 105, 170, 215, 32 , 35 ,\n",
      "          226, 29 , 114, 217, 87 , 111],\n",
      "         [66 , 254, 213, 226, 174, 234, 162, 51 , 31 , 6  , 155, 90 , 23 , 85 ,\n",
      "          86 , 135, 91 , 192, 215, 117],\n",
      "         [16 , 143, 161, 228, 174, 241, 138, 149, 198, 218, 196, 168, 7  , 88 ,\n",
      "          87 , 114, 74 , 206, 46 , 130],\n",
      "         [130, 0  , 97 , 57 , 110, 128, 22 , 15 , 130, 142, 191, 222, 69 , 75 ,\n",
      "          150, 123, 65 , 107, 166, 122],\n",
      "         [233, 222, 0  , 14 , 232, 229, 51 , 87 , 17 , 151, 252, 116, 92 , 142,\n",
      "          52 , 166, 83 , 125, 138, 10 ],\n",
      "         [178, 223, 232, 195, 30 , 105, 118, 65 , 189, 71 , 136, 217, 153, 168,\n",
      "          46 , 98 , 20 , 47 , 1  , 41 ],\n",
      "         [177, 184, 55 , 242, 149, 186, 145, 79 , 123, 25 , 53 , 115, 88 , 180,\n",
      "          65 , 10 , 116, 11 , 155, 102],\n",
      "         [21 , 31 , 162, 21 , 43 , 164, 133, 245, 7  , 63 , 206, 151, 215, 232,\n",
      "          37 , 170, 134, 99 , 148, 238],\n",
      "         [114, 190, 172, 247, 131, 197, 173, 236, 67 , 167, 39 , 15 , 186, 5  ,\n",
      "          27 , 46 , 168, 104, 80 , 236],\n",
      "         [106, 9  , 13 , 118, 162, 113, 232, 98 , 247, 136, 118, 18 , 198, 241,\n",
      "          27 , 138, 194, 67 , 62 , 169],\n",
      "         [239, 189, 79 , 197, 63 , 185, 6  , 114, 180, 124, 85 , 200, 218, 3  ,\n",
      "          121, 21 , 114, 214, 224, 232],\n",
      "         [254, 139, 203, 233, 182, 18 , 38 , 83 , 233, 131, 164, 233, 240, 206,\n",
      "          99 , 137, 240, 103, 148, 15 ],\n",
      "         [114, 185, 236, 254, 250, 157, 239, 133, 67 , 1  , 133, 31 , 97 , 253,\n",
      "          64 , 158, 152, 125, 63 , 9  ],\n",
      "         [114, 144, 89 , 168, 125, 62 , 42 , 233, 230, 189, 67 , 150, 224, 20 ,\n",
      "          36 , 54 , 17 , 194, 135, 113],\n",
      "         [189, 222, 202, 72 , 119, 128, 73 , 22 , 7  , 39 , 118, 159, 35 , 181,\n",
      "          210, 130, 182, 97 , 203, 213]]])\n"
     ]
    }
   ],
   "execution_count": 88
  },
  {
   "metadata": {
    "ExecuteTime": {
     "end_time": "2024-11-06T08:04:09.289877Z",
     "start_time": "2024-11-06T08:04:09.285402Z"
    }
   },
   "cell_type": "code",
   "source": "",
   "id": "f6adfbf79b53194f",
   "outputs": [],
   "execution_count": 61
  },
  {
   "metadata": {
    "ExecuteTime": {
     "end_time": "2024-11-06T08:08:41.912442Z",
     "start_time": "2024-11-06T08:08:41.904934Z"
    }
   },
   "cell_type": "code",
   "source": "",
   "id": "b939dd20a14aeae2",
   "outputs": [
    {
     "name": "stdout",
     "output_type": "stream",
     "text": [
      "Tensor(shape=[19], dtype=int64, place=Place(cpu), stop_gradient=True,\n",
      "       [2  , 5  , 20 , 33 , 34 , 44 , 46 , 55 , 69 , 76 , 87 , 157, 161, 169,\n",
      "        186, 187, 204, 210, 234])\n",
      "Tensor(shape=[19], dtype=float64, place=Place(cpu), stop_gradient=True,\n",
      "       [1., 1., 1., 1., 1., 1., 1., 1., 1., 1., 1., 1., 1., 1., 1., 1., 1., 1.,\n",
      "        1.])\n",
      "Tensor(shape=[19], dtype=float64, place=Place(cpu), stop_gradient=True,\n",
      "       [0.05263158, 0.05263158, 0.05263158, 0.05263158, 0.05263158, 0.05263158,\n",
      "        0.05263158, 0.05263158, 0.05263158, 0.05263158, 0.05263158, 0.05263158,\n",
      "        0.05263158, 0.05263158, 0.05263158, 0.05263158, 0.05263158, 0.05263158,\n",
      "        0.05263158])\n",
      "Tensor(shape=[10], dtype=int64, place=Place(cpu), stop_gradient=True,\n",
      "       [5 , 13, 16, 17, 10, 11, 6 , 14, 4 , 9 ])\n"
     ]
    }
   ],
   "execution_count": 72
  },
  {
   "metadata": {
    "ExecuteTime": {
     "end_time": "2024-11-08T08:22:11.024954Z",
     "start_time": "2024-11-08T08:22:11.022279Z"
    }
   },
   "cell_type": "code",
   "source": "attn_scores = paddle.randn((1,24,1,20), dtype='float32')",
   "id": "858244bae7b91aef",
   "outputs": [],
   "execution_count": 132
  },
  {
   "metadata": {
    "ExecuteTime": {
     "end_time": "2024-11-08T08:21:57.912546Z",
     "start_time": "2024-11-08T08:21:57.910225Z"
    }
   },
   "cell_type": "code",
   "source": "attn_sum = None",
   "id": "99cc814846e1626c",
   "outputs": [],
   "execution_count": 129
  },
  {
   "metadata": {
    "ExecuteTime": {
     "end_time": "2024-11-08T08:21:58.609527Z",
     "start_time": "2024-11-08T08:21:58.606639Z"
    }
   },
   "cell_type": "code",
   "source": [
    "summation = paddle.sum(attn_scores, axis = 2)\n",
    "\n",
    "if attn_sum is None:\n",
    "    attn_sum = summation\n",
    "else:\n",
    "    attn_sum += summation[:, :, :attn_sum.shape[-1]]\n",
    "    q_len = summation.shape[-1] - attn_sum.shape[-1]\n",
    "    new_in = attn_scores[:, :, q_len:]\n",
    "    attn_sum = paddle.concat([attn_sum, new_in], axis=2)"
   ],
   "id": "411bb2a02de7ad8d",
   "outputs": [],
   "execution_count": 130
  },
  {
   "metadata": {
    "ExecuteTime": {
     "end_time": "2024-11-08T08:21:59.195692Z",
     "start_time": "2024-11-08T08:21:59.193242Z"
    }
   },
   "cell_type": "code",
   "source": "attn_sum.shape",
   "id": "a879440add259f10",
   "outputs": [
    {
     "data": {
      "text/plain": [
       "[1, 24, 19]"
      ]
     },
     "execution_count": 131,
     "metadata": {},
     "output_type": "execute_result"
    }
   ],
   "execution_count": 131
  },
  {
   "metadata": {
    "ExecuteTime": {
     "end_time": "2024-11-08T08:23:34.845594Z",
     "start_time": "2024-11-08T08:23:34.817053Z"
    }
   },
   "cell_type": "code",
   "source": [
    "attn_sum += summation[:, :, :attn_sum.shape[-1]]\n",
    "attn_sum.shape"
   ],
   "id": "a252e87b47850b27",
   "outputs": [
    {
     "data": {
      "text/plain": [
       "[1, 24, 19]"
      ]
     },
     "execution_count": 138,
     "metadata": {},
     "output_type": "execute_result"
    }
   ],
   "execution_count": 138
  },
  {
   "metadata": {
    "ExecuteTime": {
     "end_time": "2024-11-08T08:23:08.455683Z",
     "start_time": "2024-11-08T08:23:08.452145Z"
    }
   },
   "cell_type": "code",
   "source": "q_len = summation.shape[-1] - attn_sum.shape[-1]",
   "id": "f6b984d9434c1f5b",
   "outputs": [],
   "execution_count": 135
  },
  {
   "metadata": {
    "ExecuteTime": {
     "end_time": "2024-11-08T08:24:31.403970Z",
     "start_time": "2024-11-08T08:24:31.401414Z"
    }
   },
   "cell_type": "code",
   "source": [
    "new_in = summation[:, :, -q_len:]\n",
    "new_in.shape"
   ],
   "id": "20883387de8d5b82",
   "outputs": [
    {
     "data": {
      "text/plain": [
       "[1, 24, 1]"
      ]
     },
     "execution_count": 141,
     "metadata": {},
     "output_type": "execute_result"
    }
   ],
   "execution_count": 141
  },
  {
   "metadata": {
    "ExecuteTime": {
     "end_time": "2024-11-08T08:25:03.864634Z",
     "start_time": "2024-11-08T08:25:03.851527Z"
    }
   },
   "cell_type": "code",
   "source": [
    "attn_sum = paddle.concat([attn_sum, new_in], axis=2)\n",
    "attn_sum.shape"
   ],
   "id": "b267c3b2d6619f5a",
   "outputs": [
    {
     "data": {
      "text/plain": [
       "[1, 24, 20]"
      ]
     },
     "execution_count": 142,
     "metadata": {},
     "output_type": "execute_result"
    }
   ],
   "execution_count": 142
  },
  {
   "metadata": {
    "ExecuteTime": {
     "end_time": "2024-11-08T08:46:04.496592Z",
     "start_time": "2024-11-08T08:46:04.483507Z"
    }
   },
   "cell_type": "code",
   "source": [
    "hash_val = paddle.rand((1, 24, 23))\n",
    "hash_val.shape"
   ],
   "id": "13ceda031e8f09fd",
   "outputs": [
    {
     "data": {
      "text/plain": [
       "[1, 24, 23]"
      ]
     },
     "execution_count": 143,
     "metadata": {},
     "output_type": "execute_result"
    }
   ],
   "execution_count": 143
  },
  {
   "metadata": {
    "ExecuteTime": {
     "end_time": "2024-11-08T08:46:34.192752Z",
     "start_time": "2024-11-08T08:46:34.171774Z"
    }
   },
   "cell_type": "code",
   "source": [
    "evict_hash = hash_val[:,:,2:-1]\n",
    "evict_hash.shape"
   ],
   "id": "fa082d4bd51094a3",
   "outputs": [
    {
     "data": {
      "text/plain": [
       "[1, 24, 20]"
      ]
     },
     "execution_count": 144,
     "metadata": {},
     "output_type": "execute_result"
    }
   ],
   "execution_count": 144
  },
  {
   "metadata": {
    "ExecuteTime": {
     "end_time": "2024-11-09T07:04:25.526133Z",
     "start_time": "2024-11-09T07:04:25.508567Z"
    }
   },
   "cell_type": "code",
   "source": [
    "evict_hash = paddle.to_tensor([[[1,1,2,2],[4,6,6,6]]]) # 2 head, 4 hashes\n",
    "evict_hash.shape"
   ],
   "id": "d0e23223e43fe34d",
   "outputs": [
    {
     "data": {
      "text/plain": [
       "[1, 2, 4]"
      ]
     },
     "execution_count": 216,
     "metadata": {},
     "output_type": "execute_result"
    }
   ],
   "execution_count": 216
  },
  {
   "metadata": {
    "ExecuteTime": {
     "end_time": "2024-11-09T07:08:26.272251Z",
     "start_time": "2024-11-09T07:08:26.265228Z"
    }
   },
   "cell_type": "code",
   "source": [
    "unique_values, counts = paddle.unique(evict_hash[:, 1, :], return_counts=True)\n",
    "unique_values, counts"
   ],
   "id": "ec6d0b3d46221e3",
   "outputs": [
    {
     "data": {
      "text/plain": [
       "(Tensor(shape=[2], dtype=int64, place=Place(cpu), stop_gradient=True,\n",
       "        [4, 6]),\n",
       " Tensor(shape=[2], dtype=int64, place=Place(cpu), stop_gradient=True,\n",
       "        [1, 3]))"
      ]
     },
     "execution_count": 230,
     "metadata": {},
     "output_type": "execute_result"
    }
   ],
   "execution_count": 230
  },
  {
   "metadata": {
    "ExecuteTime": {
     "end_time": "2024-11-09T07:08:27.248831Z",
     "start_time": "2024-11-09T07:08:27.245194Z"
    }
   },
   "cell_type": "code",
   "source": [
    "probabilities = counts.astype(\"float32\") / counts.sum()\n",
    "probabilities"
   ],
   "id": "ae567a2917ef196",
   "outputs": [
    {
     "data": {
      "text/plain": [
       "Tensor(shape=[2], dtype=float32, place=Place(cpu), stop_gradient=True,\n",
       "       [0.25000000, 0.75000000])"
      ]
     },
     "execution_count": 231,
     "metadata": {},
     "output_type": "execute_result"
    }
   ],
   "execution_count": 231
  },
  {
   "metadata": {
    "ExecuteTime": {
     "end_time": "2024-11-09T07:14:23.562657Z",
     "start_time": "2024-11-09T07:14:23.554706Z"
    }
   },
   "cell_type": "code",
   "source": [
    "scores = paddle.to_tensor([[[0.8,0.2,0.4,0.6],[0.8,0.5,0.3,0.7]]])\n",
    "scores"
   ],
   "id": "e9e40282b44ec3de",
   "outputs": [
    {
     "data": {
      "text/plain": [
       "Tensor(shape=[1, 2, 4], dtype=float32, place=Place(cpu), stop_gradient=True,\n",
       "       [[[0.80000001, 0.20000000, 0.40000001, 0.60000002],\n",
       "         [0.80000001, 0.50000000, 0.30000001, 0.69999999]]])"
      ]
     },
     "execution_count": 237,
     "metadata": {},
     "output_type": "execute_result"
    }
   ],
   "execution_count": 237
  },
  {
   "metadata": {
    "ExecuteTime": {
     "end_time": "2024-11-09T07:34:07.476896Z",
     "start_time": "2024-11-09T07:34:07.452606Z"
    }
   },
   "cell_type": "code",
   "source": [
    "i = 1\n",
    "hash_to_id = {}\n",
    "for value in unique_values:\n",
    "    indices = paddle.where(evict_hash[:, i, :] == value)[1]\n",
    "    indices = indices.flatten()\n",
    "    print(indices)\n",
    "    # sort by attn_score from low to high\n",
    "    selected_scores = paddle.gather(scores[:, i, :].flatten(), indices)\n",
    "    print(selected_scores)\n",
    "    sorted_indices = paddle.argsort(selected_scores)\n",
    "    print(sorted_indices)\n",
    "    sorted_index = paddle.gather(indices, sorted_indices)\n",
    "    print(sorted_index)\n",
    "    hash_to_id[int(value.numpy())] = sorted_index\n",
    "    print(\"------------------\")\n",
    "hash_to_id"
   ],
   "id": "614a3ebe8112b5b8",
   "outputs": [
    {
     "name": "stdout",
     "output_type": "stream",
     "text": [
      "Tensor(shape=[1], dtype=int64, place=Place(cpu), stop_gradient=True,\n",
      "       [0])\n",
      "Tensor(shape=[1], dtype=float32, place=Place(cpu), stop_gradient=True,\n",
      "       [0.80000001])\n",
      "Tensor(shape=[1], dtype=int64, place=Place(cpu), stop_gradient=True,\n",
      "       [0])\n",
      "Tensor(shape=[1], dtype=int64, place=Place(cpu), stop_gradient=True,\n",
      "       [0])\n",
      "------------------\n",
      "Tensor(shape=[3], dtype=int64, place=Place(cpu), stop_gradient=True,\n",
      "       [1, 2, 3])\n",
      "Tensor(shape=[3], dtype=float32, place=Place(cpu), stop_gradient=True,\n",
      "       [0.50000000, 0.30000001, 0.69999999])\n",
      "Tensor(shape=[3], dtype=int64, place=Place(cpu), stop_gradient=True,\n",
      "       [1, 0, 2])\n",
      "Tensor(shape=[3], dtype=int64, place=Place(cpu), stop_gradient=True,\n",
      "       [2, 1, 3])\n",
      "------------------\n"
     ]
    },
    {
     "data": {
      "text/plain": [
       "{4: Tensor(shape=[1], dtype=int64, place=Place(cpu), stop_gradient=True,\n",
       "        [0]),\n",
       " 6: Tensor(shape=[3], dtype=int64, place=Place(cpu), stop_gradient=True,\n",
       "        [2, 1, 3])}"
      ]
     },
     "execution_count": 262,
     "metadata": {},
     "output_type": "execute_result"
    }
   ],
   "execution_count": 262
  },
  {
   "metadata": {
    "ExecuteTime": {
     "end_time": "2024-11-09T07:34:08.381767Z",
     "start_time": "2024-11-09T07:34:08.377204Z"
    }
   },
   "cell_type": "code",
   "source": [
    "evict_tokens = 2\n",
    "evict_num_per_hash = probabilities * evict_tokens\n",
    "evict_num_per_hash = evict_num_per_hash.cast(\"int64\")\n",
    "remains = counts - evict_num_per_hash\n",
    "safeguards = paddle.where(remains >= 2, remains, paddle.full_like(remains, 2))  # change 3 to something else\n",
    "evict_num_per_hash = counts - safeguards\n",
    "evict_num_per_hash = paddle.where(evict_num_per_hash >= 0, evict_num_per_hash, paddle.full_like(evict_num_per_hash, 0))\n",
    "\n",
    "evict_num_per_hash"
   ],
   "id": "bdb513467c065bbb",
   "outputs": [
    {
     "data": {
      "text/plain": [
       "Tensor(shape=[2], dtype=int64, place=Place(cpu), stop_gradient=True,\n",
       "       [0, 1])"
      ]
     },
     "execution_count": 263,
     "metadata": {},
     "output_type": "execute_result"
    }
   ],
   "execution_count": 263
  },
  {
   "metadata": {
    "ExecuteTime": {
     "end_time": "2024-11-09T07:34:09.410342Z",
     "start_time": "2024-11-09T07:34:09.406886Z"
    }
   },
   "cell_type": "code",
   "source": [
    "diff = evict_tokens - paddle.sum(evict_num_per_hash)\n",
    "diff"
   ],
   "id": "2b94e96c54904f8a",
   "outputs": [
    {
     "data": {
      "text/plain": [
       "Tensor(shape=[], dtype=int64, place=Place(cpu), stop_gradient=True,\n",
       "       1)"
      ]
     },
     "execution_count": 264,
     "metadata": {},
     "output_type": "execute_result"
    }
   ],
   "execution_count": 264
  },
  {
   "metadata": {
    "ExecuteTime": {
     "end_time": "2024-11-09T07:51:57.552039Z",
     "start_time": "2024-11-09T07:51:57.547952Z"
    }
   },
   "cell_type": "code",
   "source": [
    "evict_id_per_head = []\n",
    "\n",
    "for i, value in enumerate(unique_values):\n",
    "    evict_id_per_head.extend(hash_to_id[int(value.numpy())][:evict_num_per_hash[i]])\n",
    "evict_id_per_head"
   ],
   "id": "cc04c6d219cb026",
   "outputs": [
    {
     "data": {
      "text/plain": [
       "[Tensor(shape=[], dtype=int64, place=Place(cpu), stop_gradient=True,\n",
       "        2)]"
      ]
     },
     "execution_count": 273,
     "metadata": {},
     "output_type": "execute_result"
    }
   ],
   "execution_count": 273
  },
  {
   "metadata": {
    "ExecuteTime": {
     "end_time": "2024-11-09T07:51:58.701216Z",
     "start_time": "2024-11-09T07:51:58.696446Z"
    }
   },
   "cell_type": "code",
   "source": [
    "keep_idx = np.setdiff1d(np.arange(0, q_len), evict_id_per_head)\n",
    "# keep_ids.append(keep_idx) \n",
    "keep_idx"
   ],
   "id": "9873427ac75608e",
   "outputs": [
    {
     "data": {
      "text/plain": [
       "array([0, 1, 3])"
      ]
     },
     "execution_count": 274,
     "metadata": {},
     "output_type": "execute_result"
    }
   ],
   "execution_count": 274
  },
  {
   "metadata": {
    "ExecuteTime": {
     "end_time": "2024-11-09T07:53:28.260045Z",
     "start_time": "2024-11-09T07:53:28.256221Z"
    }
   },
   "cell_type": "code",
   "source": [
    "keep_ids = []\n",
    "\n",
    "keep_ids.append(np.array([1,2,3]))\n",
    "keep_ids.append(keep_idx) \n",
    "keep_ids"
   ],
   "id": "e2877a186394457c",
   "outputs": [
    {
     "data": {
      "text/plain": [
       "[array([1, 2, 3]), array([0, 1, 3])]"
      ]
     },
     "execution_count": 276,
     "metadata": {},
     "output_type": "execute_result"
    }
   ],
   "execution_count": 276
  },
  {
   "metadata": {
    "ExecuteTime": {
     "end_time": "2024-11-09T08:09:12.113778Z",
     "start_time": "2024-11-09T08:09:12.105899Z"
    }
   },
   "cell_type": "code",
   "source": [
    "keep_ids_internal = paddle.to_tensor(keep_ids).reshape([1, len(keep_ids), 3])\n",
    "keep_ids_internal"
   ],
   "id": "4bd3483376251b84",
   "outputs": [
    {
     "data": {
      "text/plain": [
       "Tensor(shape=[1, 2, 3], dtype=int64, place=Place(cpu), stop_gradient=True,\n",
       "       [[[1, 2, 3],\n",
       "         [0, 1, 3]]])"
      ]
     },
     "execution_count": 280,
     "metadata": {},
     "output_type": "execute_result"
    }
   ],
   "execution_count": 280
  },
  {
   "metadata": {
    "ExecuteTime": {
     "end_time": "2024-11-09T08:11:31.631864Z",
     "start_time": "2024-11-09T08:11:31.617404Z"
    }
   },
   "cell_type": "code",
   "source": "paddle.take_along_axis(evict_hash, keep_ids_internal, axis = -1)",
   "id": "337086581e2cd590",
   "outputs": [
    {
     "data": {
      "text/plain": [
       "Tensor(shape=[1, 2, 3], dtype=int64, place=Place(cpu), stop_gradient=True,\n",
       "       [[[1, 2, 2],\n",
       "         [4, 6, 6]]])"
      ]
     },
     "execution_count": 281,
     "metadata": {},
     "output_type": "execute_result"
    }
   ],
   "execution_count": 281
  },
  {
   "metadata": {
    "ExecuteTime": {
     "end_time": "2024-11-09T08:11:41.195522Z",
     "start_time": "2024-11-09T08:11:41.192090Z"
    }
   },
   "cell_type": "code",
   "source": "evict_hash",
   "id": "a0521be57f4c2351",
   "outputs": [
    {
     "data": {
      "text/plain": [
       "Tensor(shape=[1, 2, 4], dtype=int64, place=Place(cpu), stop_gradient=True,\n",
       "       [[[1, 1, 2, 2],\n",
       "         [4, 6, 6, 6]]])"
      ]
     },
     "execution_count": 282,
     "metadata": {},
     "output_type": "execute_result"
    }
   ],
   "execution_count": 282
  }
 ],
 "metadata": {
  "kernelspec": {
   "display_name": "Python 3",
   "language": "python",
   "name": "python3"
  },
  "language_info": {
   "codemirror_mode": {
    "name": "ipython",
    "version": 2
   },
   "file_extension": ".py",
   "mimetype": "text/x-python",
   "name": "python",
   "nbconvert_exporter": "python",
   "pygments_lexer": "ipython2",
   "version": "2.7.6"
  }
 },
 "nbformat": 4,
 "nbformat_minor": 5
}

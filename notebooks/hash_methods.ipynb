{
 "cells": [
  {
   "cell_type": "code",
   "id": "initial_id",
   "metadata": {
    "collapsed": true,
    "ExecuteTime": {
     "end_time": "2024-12-05T05:45:30.997609Z",
     "start_time": "2024-12-05T05:45:30.898023Z"
    }
   },
   "source": [
    "import numpy as np\n",
    "\n",
    "file_path = \"./data/pred.npy\"\n",
    "key_states = np.load(file_path)  # Load the .npy file\n",
    "\n",
    "print(\"Loaded key states:\", key_states.shape)"
   ],
   "outputs": [
    {
     "name": "stdout",
     "output_type": "stream",
     "text": [
      "Loaded key states: (1, 32, 2664, 64)\n"
     ]
    }
   ],
   "execution_count": 1
  },
  {
   "metadata": {
    "ExecuteTime": {
     "end_time": "2024-12-05T05:46:03.545127Z",
     "start_time": "2024-12-05T05:46:03.540406Z"
    }
   },
   "cell_type": "code",
   "source": [
    "one_head = key_states[:,0,:,:].squeeze()\n",
    "print(f\"one_head shape: {one_head.shape}\")"
   ],
   "id": "f9d2c9bdc330ad12",
   "outputs": [
    {
     "name": "stdout",
     "output_type": "stream",
     "text": [
      "one_head shape: (2664, 64)\n"
     ]
    }
   ],
   "execution_count": 3
  },
  {
   "metadata": {
    "ExecuteTime": {
     "end_time": "2024-11-20T07:14:41.991839Z",
     "start_time": "2024-11-20T07:12:34.759797Z"
    }
   },
   "cell_type": "code",
   "source": [
    "# K means\n",
    "from sklearn.cluster import KMeans\n",
    "from sklearn.preprocessing import normalize\n",
    "from sklearn.metrics import silhouette_score\n",
    "\n",
    "# Normalize the data to unit vectors for cosine similarity\n",
    "one_head_normalized = normalize(one_head, axis=1)\n",
    "\n",
    "# Perform k-means clustering\n",
    "for k in range(2, 21):\n",
    "    kmeans = KMeans(n_clusters=k, random_state=42, n_init=\"auto\")  # Set number of clusters and random state\n",
    "    kmeans.fit(one_head_normalized)\n",
    "    \n",
    "    # # Access the results\n",
    "    # cluster_centers = kmeans.cluster_centers_  # Cluster centers in normalized space\n",
    "    # labels = kmeans.labels_  # Cluster labels for each data point\n",
    "    \n",
    "    silhouette_avg = silhouette_score(one_head_normalized, kmeans.labels_, metric=\"cosine\")\n",
    "    print(f\"{k} clusters, silhouette Score (Cosine Distance): {silhouette_avg}\")"
   ],
   "id": "9b12017547292502",
   "outputs": [
    {
     "name": "stdout",
     "output_type": "stream",
     "text": [
      "2 clusters, silhouette Score (Cosine Distance): 0.087671270648966\n",
      "3 clusters, silhouette Score (Cosine Distance): 0.07789711860470047\n",
      "4 clusters, silhouette Score (Cosine Distance): 0.0596252094361434\n",
      "5 clusters, silhouette Score (Cosine Distance): 0.0661363743563617\n",
      "6 clusters, silhouette Score (Cosine Distance): 0.06644677159094071\n",
      "7 clusters, silhouette Score (Cosine Distance): 0.056859328357960384\n",
      "8 clusters, silhouette Score (Cosine Distance): 0.05699723210906062\n",
      "9 clusters, silhouette Score (Cosine Distance): 0.05448862937277628\n",
      "10 clusters, silhouette Score (Cosine Distance): 0.053292891135382686\n",
      "11 clusters, silhouette Score (Cosine Distance): 0.050195463270147886\n",
      "12 clusters, silhouette Score (Cosine Distance): 0.04906397700281237\n",
      "13 clusters, silhouette Score (Cosine Distance): 0.04749120396169326\n",
      "14 clusters, silhouette Score (Cosine Distance): 0.04657460797283719\n",
      "15 clusters, silhouette Score (Cosine Distance): 0.04497974983517458\n",
      "16 clusters, silhouette Score (Cosine Distance): 0.04468427464906781\n",
      "17 clusters, silhouette Score (Cosine Distance): 0.0451654612903008\n",
      "18 clusters, silhouette Score (Cosine Distance): 0.04357057853234278\n",
      "19 clusters, silhouette Score (Cosine Distance): 0.04419403340752654\n",
      "20 clusters, silhouette Score (Cosine Distance): 0.04296819868191397\n"
     ]
    }
   ],
   "execution_count": 12
  },
  {
   "metadata": {
    "ExecuteTime": {
     "end_time": "2024-11-21T15:54:19.249199Z",
     "start_time": "2024-11-21T15:54:11.740183Z"
    }
   },
   "cell_type": "code",
   "source": [
    "# random planes\n",
    "np.random.seed(42)\n",
    "\n",
    "one_head_normalized = normalize(one_head, axis=1)  # Normalize for cosine similarity\n",
    "\n",
    "random_planes = np.random.randn(6, 128) \n",
    "dot_products = np.dot(one_head_normalized, random_planes.T)  # Shape: (32768, 4)\n",
    "binary_hash = (dot_products > 0).astype(int)  # Shape: (32768, 4)\n",
    "cluster_indices = np.packbits(binary_hash, axis=1, bitorder='little')[:, 0]  # Shape: (32768,)\n",
    "\n",
    "silhouette_avg = silhouette_score(one_head_normalized, cluster_indices, metric=\"cosine\")\n",
    "uniq, counts = np.unique(cluster_indices, return_counts=True)\n",
    "print(f\"Silhouette Score: {silhouette_avg}\")\n",
    "print(uniq, counts)"
   ],
   "id": "4664780644800fda",
   "outputs": [
    {
     "name": "stdout",
     "output_type": "stream",
     "text": [
      "Silhouette Score: -0.17585249479710038\n",
      "[ 0  1  2  3  4  5  6  7  8  9 10 11 12 13 14 15 16 17 18 19 20 21 22 23\n",
      " 24 26 27 28 29 30 31 32 33 34 35 36 37 38 39 40 42 43 44 46 47 50 51 52\n",
      " 54 55 58 60 62 63] [  566    41  4439   140  1681   249 14840  1477    58     1   228     3\n",
      "   119     1   725    25    40     1   489    27    88    14  1780   190\n",
      "     2    35     2    17     1    94     4    34     1   498     8   252\n",
      "    21  3615   208     1    21     1    38   221     3    43     1     7\n",
      "   360    36     3     2    16     1]\n"
     ]
    }
   ],
   "execution_count": 28
  },
  {
   "metadata": {
    "ExecuteTime": {
     "end_time": "2024-11-20T07:03:22.671983Z",
     "start_time": "2024-11-20T07:03:16.158206Z"
    }
   },
   "cell_type": "code",
   "source": [
    "# random assign\n",
    "np.random.seed(42)\n",
    "one_head_normalized = normalize(one_head, axis=1)\n",
    "cluster_indices = np.random.randint(5,16,size=(32768,))\n",
    "silhouette_avg = silhouette_score(one_head_normalized, cluster_indices, metric=\"cosine\")\n",
    "print(f\"Silhouette Score: {silhouette_avg}\")"
   ],
   "id": "2d3862de282d6391",
   "outputs": [
    {
     "name": "stdout",
     "output_type": "stream",
     "text": [
      "Silhouette Score: -0.006293656479882519\n"
     ]
    }
   ],
   "execution_count": 9
  },
  {
   "metadata": {
    "ExecuteTime": {
     "end_time": "2024-12-05T05:48:42.985357Z",
     "start_time": "2024-12-05T05:48:42.849272Z"
    }
   },
   "cell_type": "code",
   "source": [
    "import matplotlib.pyplot as plt\n",
    "from sklearn.decomposition import PCA\n",
    "\n",
    "np.random.seed(42)\n",
    "\n",
    "# List of target dimensions for PCA\n",
    "target_dimensions = [10, 20, 30, 40, 50, 64]\n",
    "\n",
    "# Store the explained variance ratios for each target dimension\n",
    "explained_variances = []\n",
    "\n",
    "# Apply PCA for each target dimension\n",
    "for dim in target_dimensions:\n",
    "    pca = PCA(n_components=dim)\n",
    "    pca.fit(one_head)\n",
    "    explained_variances.append(np.sum(pca.explained_variance_ratio_))\n",
    "\n",
    "# Plot the explained variance coverage\n",
    "plt.figure(figsize=(10, 6))\n",
    "plt.plot(target_dimensions, explained_variances, marker='o')\n",
    "plt.title(\"Explained Variance by PCA Dimensions\", fontsize=14)\n",
    "plt.xlabel(\"Number of PCA Dimensions\", fontsize=12)\n",
    "plt.ylabel(\"Explained Variance Ratio\", fontsize=12)\n",
    "plt.grid(True)\n",
    "plt.show()\n",
    "\n",
    "# Output the explained variance values for each dimension\n",
    "explained_variances"
   ],
   "id": "ed711ebba59594a3",
   "outputs": [
    {
     "data": {
      "text/plain": [
       "<Figure size 1000x600 with 1 Axes>"
      ],
      "image/png": "[encoded data removed]"
     },
     "metadata": {},
     "output_type": "display_data"
    },
    {
     "data": {
      "text/plain": [
       "[0.6071537, 0.84215426, 0.97863615, 0.99350977, 0.99785656, 1.0]"
      ]
     },
     "execution_count": 5,
     "metadata": {},
     "output_type": "execute_result"
    }
   ],
   "execution_count": 5
  },
  {
   "metadata": {
    "ExecuteTime": {
     "end_time": "2024-11-20T15:13:10.551690Z",
     "start_time": "2024-11-20T15:11:00.784543Z"
    }
   },
   "cell_type": "code",
   "source": [
    "np.random.seed(42)\n",
    "\n",
    "one_head_normalized = normalize(one_head, axis=1)  # Normalize for cosine similarity\n",
    "\n",
    "random_planes = np.random.randn(5, 128) \n",
    "dot_products = np.dot(one_head_normalized, random_planes.T)\n",
    "\n",
    "for k in range(2, 21):\n",
    "    kmeans = KMeans(n_clusters=k, random_state=42, n_init=\"auto\")  # Set number of clusters and random state\n",
    "    kmeans.fit(dot_products)\n",
    "    \n",
    "    # # Access the results\n",
    "    # cluster_centers = kmeans.cluster_centers_  # Cluster centers in normalized space\n",
    "    # labels = kmeans.labels_  # Cluster labels for each data point\n",
    "    \n",
    "    silhouette_avg = silhouette_score(one_head_normalized, kmeans.labels_, metric=\"cosine\")\n",
    "    print(f\"{k} clusters, silhouette Score (Cosine Distance): {silhouette_avg}\")"
   ],
   "id": "35021ad6f37ec419",
   "outputs": [
    {
     "name": "stdout",
     "output_type": "stream",
     "text": [
      "2 clusters, silhouette Score (Cosine Distance): 0.029747622930958378\n",
      "3 clusters, silhouette Score (Cosine Distance): 0.021364828007273417\n",
      "4 clusters, silhouette Score (Cosine Distance): 0.012787122806650314\n",
      "5 clusters, silhouette Score (Cosine Distance): 0.007007981985676123\n",
      "6 clusters, silhouette Score (Cosine Distance): 0.0035534996361973525\n",
      "7 clusters, silhouette Score (Cosine Distance): -0.0025393686823568466\n",
      "8 clusters, silhouette Score (Cosine Distance): -0.006633010643890729\n",
      "9 clusters, silhouette Score (Cosine Distance): -0.00923551893994795\n",
      "10 clusters, silhouette Score (Cosine Distance): -0.010396944181681642\n",
      "11 clusters, silhouette Score (Cosine Distance): -0.011447128131049537\n",
      "12 clusters, silhouette Score (Cosine Distance): -0.01277642598242383\n",
      "13 clusters, silhouette Score (Cosine Distance): -0.013508331839073245\n",
      "14 clusters, silhouette Score (Cosine Distance): -0.013962982999485129\n",
      "15 clusters, silhouette Score (Cosine Distance): -0.015429938889138772\n",
      "16 clusters, silhouette Score (Cosine Distance): -0.016295384690209906\n",
      "17 clusters, silhouette Score (Cosine Distance): -0.017964380020717294\n",
      "18 clusters, silhouette Score (Cosine Distance): -0.017878769805284724\n",
      "19 clusters, silhouette Score (Cosine Distance): -0.01830110620390878\n",
      "20 clusters, silhouette Score (Cosine Distance): -0.018861599132228214\n"
     ]
    }
   ],
   "execution_count": 22
  },
  {
   "metadata": {
    "ExecuteTime": {
     "end_time": "2024-11-27T07:56:06.416257Z",
     "start_time": "2024-11-27T07:56:05.512205Z"
    }
   },
   "cell_type": "code",
   "source": [
    "import torch\n",
    "\n",
    "def repeat_kv(hidden_states: torch.Tensor, n_rep: int) -> torch.Tensor:\n",
    "    \"\"\"\n",
    "    This is the equivalent of torch.repeat_interleave(x, dim=1, repeats=n_rep). The hidden states go from (batch,\n",
    "    num_key_value_heads, seqlen, head_dim) to (batch, num_attention_heads, seqlen, head_dim)\n",
    "    \"\"\"\n",
    "    batch, num_key_value_heads, slen, head_dim = hidden_states.shape\n",
    "    if n_rep == 1:\n",
    "        return hidden_states\n",
    "    hidden_states = hidden_states[:, :, None, :, :].expand(batch, num_key_value_heads, n_rep, slen, head_dim)\n",
    "    return hidden_states.reshape(batch, num_key_value_heads * n_rep, slen, head_dim)"
   ],
   "id": "9f27e8d5cf6988f9",
   "outputs": [],
   "execution_count": 1
  },
  {
   "metadata": {
    "ExecuteTime": {
     "end_time": "2024-11-27T07:57:40.488353Z",
     "start_time": "2024-11-27T07:57:40.484034Z"
    }
   },
   "cell_type": "code",
   "source": [
    "a = torch.tensor([[[[1,2,3]],[[3,2,1]]]])\n",
    "print(\"a shape\", a.shape)\n",
    "ra = repeat_kv(a,3)\n",
    "print(ra)"
   ],
   "id": "6af3cb5b1244e0ec",
   "outputs": [
    {
     "name": "stdout",
     "output_type": "stream",
     "text": [
      "a shape torch.Size([1, 2, 1, 3])\n",
      "tensor([[[[1, 2, 3]],\n",
      "\n",
      "         [[1, 2, 3]],\n",
      "\n",
      "         [[1, 2, 3]],\n",
      "\n",
      "         [[3, 2, 1]],\n",
      "\n",
      "         [[3, 2, 1]],\n",
      "\n",
      "         [[3, 2, 1]]]])\n"
     ]
    }
   ],
   "execution_count": 4
  },
  {
   "metadata": {
    "ExecuteTime": {
     "end_time": "2024-11-28T06:09:12.088909Z",
     "start_time": "2024-11-28T06:09:12.085099Z"
    }
   },
   "cell_type": "code",
   "source": [
    "hash_values = torch.tensor([[[1,1,1,2,2],[2,1,2,2,1]]])\n",
    "print(hash_values.shape)\n",
    "attn_sum = torch.tensor([[[7.5,3.4,0.8,6.2,9.1],[9.5,0.3,2.5,2.2,1.2]]])\n",
    "print(attn_sum[:, 0, :].shape)"
   ],
   "id": "a1cb1f4d64dde7ab",
   "outputs": [
    {
     "name": "stdout",
     "output_type": "stream",
     "text": [
      "torch.Size([1, 2, 5])\n",
      "torch.Size([1, 5])\n"
     ]
    }
   ],
   "execution_count": 13
  },
  {
   "metadata": {
    "ExecuteTime": {
     "end_time": "2024-11-28T06:42:10.643484Z",
     "start_time": "2024-11-28T06:42:10.637656Z"
    }
   },
   "cell_type": "code",
   "source": [
    "def head_eviction(hash, attn, head_idx, evict_num):\n",
    "        unique_values, inverse_indices, counts = torch.unique(\n",
    "            hash[:, head_idx, :], return_inverse=True, return_counts=True\n",
    "        )\n",
    "        frequencies = counts.float() / counts.sum()  # Frequency of each unique hash value\n",
    "        evict_num_per_hash = (frequencies * evict_num).floor().long()  # Dynamic K values (one per unique hash)\n",
    "\n",
    "        num_unique = unique_values.size(0)\n",
    "        inverse_indices_expanded = inverse_indices.view(1, -1)  # Expand for broadcasting\n",
    "        mask = inverse_indices_expanded == torch.arange(num_unique, device=hash.device).view(-1, 1)\n",
    "\n",
    "        attn_sums_per_unique = torch.where(\n",
    "            mask, attn[:, head_idx, :].expand(num_unique, -1), torch.tensor(float('inf'), device=hash.device)\n",
    "        )\n",
    "\n",
    "        evict_id_per_head = torch.empty(evict_num_per_hash.sum().item(), dtype=torch.long, device=hash.device)\n",
    "        start_idx = 0\n",
    "        for i in range(num_unique):\n",
    "            k = evict_num_per_hash[i]  # Dynamic K for this unique value\n",
    "            if k > 0:\n",
    "                # Use `largest=False` to select smallest K values\n",
    "                _, topk_indices = torch.topk(attn_sums_per_unique[i], k=k, largest=False)\n",
    "                evict_id_per_head[start_idx:start_idx + k] = topk_indices\n",
    "                start_idx += k\n",
    "\n",
    "        return evict_id_per_head"
   ],
   "id": "a52c10f41145414f",
   "outputs": [],
   "execution_count": 23
  },
  {
   "metadata": {
    "ExecuteTime": {
     "end_time": "2024-11-28T06:57:10.064309Z",
     "start_time": "2024-11-28T06:57:10.058845Z"
    }
   },
   "cell_type": "code",
   "source": [
    "# evict_ids = []\n",
    "# for i in range(hash_values.shape[1]):\n",
    "#                 evict_id_per_head = head_eviction(hash_values, attn_sum, i, 3)\n",
    "#                 evict_ids.append(evict_id_per_head)\n",
    "# print(evict_ids)\n",
    "\n",
    "evict_ids = torch.tensor([[3,2], [1,3]])\n",
    "min_evict_tokens = min(len(evict_id_per_head) for evict_id_per_head in evict_ids)\n",
    "print(min_evict_tokens)\n",
    "aligned_evict_ids = torch.stack([\n",
    "                evict_id_per_head[:min_evict_tokens]\n",
    "                for evict_id_per_head in evict_ids\n",
    "            ])\n",
    "print(aligned_evict_ids)\n",
    "\n",
    "keep_indices = torch.ones(\n",
    "                (2, 5), \n",
    "                dtype=torch.bool)\n",
    "keep_indices.scatter_(1, aligned_evict_ids, False) \n",
    "print(keep_indices)\n",
    "\n",
    "valid_indices = torch.masked_select(\n",
    "    torch.arange(5).unsqueeze(0).expand(2, -1), \n",
    "    keep_indices\n",
    ").view(2, -1)\n",
    "print(valid_indices)\n",
    "key_states = torch.tensor([[[[1,2,3],[4,5,6],[7,8,9],[10,11,12],[13,14,15]],\n",
    "                           [[-1,-2,-3],[-4,-5,-6],[-7,-8,-9],[-10,-11,-12],[-13,-14,-15]]]])\n",
    "print(key_states.shape)\n",
    "\n",
    "reduced_key_state = key_states.gather(\n",
    "        dim=2,\n",
    "        index=valid_indices.unsqueeze(0).unsqueeze(-1).expand(key_states.shape[0], -1, -1, key_states.shape[-1])\n",
    "    )\n",
    "print(reduced_key_state)\n",
    "print(reduced_key_state.shape)"
   ],
   "id": "6f377801957211d7",
   "outputs": [
    {
     "name": "stdout",
     "output_type": "stream",
     "text": [
      "2\n",
      "tensor([[3, 2],\n",
      "        [1, 3]])\n",
      "tensor([[ True,  True, False, False,  True],\n",
      "        [ True, False,  True, False,  True]])\n",
      "tensor([[0, 1, 4],\n",
      "        [0, 2, 4]])\n",
      "torch.Size([1, 2, 5, 3])\n",
      "tensor([[[[  1,   2,   3],\n",
      "          [  4,   5,   6],\n",
      "          [ 13,  14,  15]],\n",
      "\n",
      "         [[ -1,  -2,  -3],\n",
      "          [ -7,  -8,  -9],\n",
      "          [-13, -14, -15]]]])\n",
      "torch.Size([1, 2, 3, 3])\n"
     ]
    }
   ],
   "execution_count": 40
  },
  {
   "metadata": {
    "ExecuteTime": {
     "end_time": "2024-11-28T06:21:50.904827Z",
     "start_time": "2024-11-28T06:21:50.886305Z"
    }
   },
   "cell_type": "code",
   "source": [
    "import torch\n",
    "\n",
    "# Assume hash_values and attn_sum are tensors of shape (b, num_heads, #key_states)\n",
    "# and `topk` is the number of indices you want to retrieve for each unique value\n",
    "\n",
    "b, num_heads, num_key_states = hash_values.shape\n",
    "head_idx = 0\n",
    "num_tokens = 3\n",
    "\n",
    "unique_values, inverse_indices, counts = torch.unique(\n",
    "    hash_values[:, head_idx, :], return_inverse=True, return_counts=True\n",
    ")\n",
    "\n",
    "print(unique_values)\n",
    "print(inverse_indices)\n",
    "print(counts)\n",
    "\n",
    "frequencies = counts.float() / counts.sum()  # Frequency of each unique hash value\n",
    "evict_num_per_hash = (frequencies * num_tokens).floor().long()  # Dynamic K values (one per unique hash)\n",
    "\n",
    "print(frequencies)\n",
    "print(evict_num_per_hash)\n",
    "\n",
    "num_unique = unique_values.size(0)\n",
    "inverse_indices_expanded = inverse_indices.view(1, -1)  # Expand for broadcasting\n",
    "mask = inverse_indices_expanded == torch.arange(num_unique, device=hash_values.device).view(-1, 1)\n",
    "\n",
    "print(inverse_indices_expanded)\n",
    "print(mask)\n",
    "\n",
    "attn_sums_per_unique = torch.where(\n",
    "    mask, attn_sum[:, head_idx, :].expand(num_unique, -1), torch.tensor(float('inf'), device=hash_values.device)\n",
    ")\n",
    "print(attn_sums_per_unique)\n",
    "\n",
    "evict_id_per_head = torch.empty(evict_num_per_hash.sum().item(), dtype=torch.long, device=hash_values.device)\n",
    "start_idx = 0\n",
    "\n",
    "for i in range(num_unique):\n",
    "    k = evict_num_per_hash[i]  # Dynamic K for this unique value\n",
    "    if k > 0:\n",
    "        # Use `largest=False` to select smallest K values\n",
    "        topk_values, topk_indices = torch.topk(attn_sums_per_unique[i], k=k, largest=False)\n",
    "\n",
    "        # Insert the topk_indices into the preallocated result tensor\n",
    "        evict_id_per_head[start_idx:start_idx + k] = topk_indices\n",
    "        start_idx += k\n",
    "\n",
    "print(evict_id_per_head+10)"
   ],
   "id": "793d1682170a2738",
   "outputs": [
    {
     "name": "stdout",
     "output_type": "stream",
     "text": [
      "tensor([1, 2])\n",
      "tensor([[0, 0, 0, 1, 1]])\n",
      "tensor([3, 2])\n",
      "tensor([0.6000, 0.4000])\n",
      "tensor([1, 1])\n",
      "tensor([[0, 0, 0, 1, 1]])\n",
      "tensor([[ True,  True,  True, False, False],\n",
      "        [False, False, False,  True,  True]])\n",
      "tensor([[7.5000, 3.4000, 0.8000,    inf,    inf],\n",
      "        [   inf,    inf,    inf, 6.2000, 9.1000]])\n",
      "tensor([12, 13])\n"
     ]
    }
   ],
   "execution_count": 20
  },
  {
   "metadata": {},
   "cell_type": "code",
   "outputs": [],
   "execution_count": null,
   "source": "",
   "id": "3db253fbd47a8d1b"
  }
 ],
 "metadata": {
  "kernelspec": {
   "display_name": "Python 3",
   "language": "python",
   "name": "python3"
  },
  "language_info": {
   "codemirror_mode": {
    "name": "ipython",
    "version": 2
   },
   "file_extension": ".py",
   "mimetype": "text/x-python",
   "name": "python",
   "nbconvert_exporter": "python",
   "pygments_lexer": "ipython2",
   "version": "2.7.6"
  }
 },
 "nbformat": 4,
 "nbformat_minor": 5
}
